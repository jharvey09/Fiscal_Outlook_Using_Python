{
 "cells": [
  {
   "cell_type": "code",
   "execution_count": 1,
   "id": "4d082c15-6157-49f5-9a9f-faa07c1d4044",
   "metadata": {},
   "outputs": [],
   "source": [
    "import pandas as pd"
   ]
  },
  {
   "cell_type": "code",
   "execution_count": 3,
   "id": "5e839d76-c352-4bcc-9a32-b3f1d856a132",
   "metadata": {},
   "outputs": [],
   "source": [
    "# Read data file\n",
    "\n",
    "df = pd.read_csv(\"homework.csv\")"
   ]
  },
  {
   "cell_type": "code",
   "execution_count": 11,
   "id": "3a091292-b0eb-43a5-92db-7f99796bb073",
   "metadata": {},
   "outputs": [],
   "source": [
    "# Import dataconversion libraries\n",
    "\n",
    "from datetime import datetime"
   ]
  },
  {
   "cell_type": "code",
   "execution_count": 12,
   "id": "a015252e-77af-4123-bd93-aabc2deb10e8",
   "metadata": {},
   "outputs": [],
   "source": [
    "# Create import lists for the CSV data\n",
    "\n",
    "month_list = []\n",
    "profit_loss_list = []"
   ]
  },
  {
   "cell_type": "code",
   "execution_count": 16,
   "id": "62948909-7ccd-4527-a7db-0b8c23e58858",
   "metadata": {},
   "outputs": [],
   "source": [
    "# Convert string date to datetime\n",
    "# Extract year and month from datetime column\n",
    "\n",
    "df['FullDate'] = pd.to_datetime(df['Date'])\n",
    "df['Year'] = pd.DatetimeIndex(df['FullDate']).year\n",
    "df['Month'] = pd.DatetimeIndex(df['FullDate']).month"
   ]
  },
  {
   "cell_type": "code",
   "execution_count": 17,
   "id": "8261e506-89c3-46a3-ac8f-945b4964a838",
   "metadata": {},
   "outputs": [],
   "source": [
    "# Create month - years pair\n",
    "\n",
    "df['MonthYear'] = pd.to_datetime(df['FullDate']).dt.to_period('M')"
   ]
  },
  {
   "cell_type": "code",
   "execution_count": 30,
   "id": "b01a7032-695d-4c55-9016-5f84ffc7c58c",
   "metadata": {},
   "outputs": [
    {
     "name": "stdout",
     "output_type": "stream",
     "text": [
      "\n",
      "Financial Analysis\n",
      "____________________\n",
      "\n"
     ]
    }
   ],
   "source": [
    "# Print header\n",
    "\n",
    "print()\n",
    "print(\"Financial Analysis\")\n",
    "print(\"____________________\")\n",
    "print()"
   ]
  },
  {
   "cell_type": "code",
   "execution_count": 18,
   "id": "5156e882-2323-4a17-8080-f43ed3c04220",
   "metadata": {},
   "outputs": [
    {
     "name": "stdout",
     "output_type": "stream",
     "text": [
      "Total Months: 86\n"
     ]
    }
   ],
   "source": [
    "# Print numbr of months\n",
    "\n",
    "print (\"Total Months:\" ,df['Date'].nunique())"
   ]
  },
  {
   "cell_type": "code",
   "execution_count": 19,
   "id": "5788f7ab-c982-4e27-804c-c75ef446189b",
   "metadata": {},
   "outputs": [
    {
     "name": "stdout",
     "output_type": "stream",
     "text": [
      "Total: $38382578\n"
     ]
    }
   ],
   "source": [
    "# Print total profit/loss\n",
    "\n",
    "print(\"Total: $\"+str(df['Profit/Losses'].sum()))"
   ]
  },
  {
   "cell_type": "code",
   "execution_count": 21,
   "id": "7b0c5d1e-f555-48ef-9a7b-c8707737a0be",
   "metadata": {},
   "outputs": [],
   "source": [
    "#In order to calculate  the change from one month to the next, create a new column and record the value shifting the current month 1 row down.\n",
    "\n",
    "df['Profit/Loss_Shifted']=df['Profit/Losses'].shift(1)"
   ]
  },
  {
   "cell_type": "code",
   "execution_count": 22,
   "id": "68f4881b-cbfd-46cb-9597-087f18d4e454",
   "metadata": {},
   "outputs": [
    {
     "name": "stdout",
     "output_type": "stream",
     "text": [
      "Average Change: $-2315.12\n"
     ]
    }
   ],
   "source": [
    "# Create a column to record the change between shifted value previous month and the current month\n",
    "\n",
    "df['Change']=df['Profit/Losses']-df['Profit/Loss_Shifted']\n",
    "print(\"Average Change: $\"+str(round(df['Change'].mean(),2)))"
   ]
  },
  {
   "cell_type": "code",
   "execution_count": 23,
   "id": "e7f159db-c8e7-40b8-bbec-030999d1c56c",
   "metadata": {},
   "outputs": [
    {
     "name": "stdout",
     "output_type": "stream",
     "text": [
      "Greatest Increase in Profits: Feb-2012 ($1926159)\n"
     ]
    }
   ],
   "source": [
    "# Print greatest increased profits\n",
    "\n",
    "print(\"Greatest Increase in Profits: \" +df['Date'][df['Change'] == df['Change'].max()].iloc[0]+ \" ($\"+str(int(df['Change'].max()))+\")\")"
   ]
  },
  {
   "cell_type": "code",
   "execution_count": 25,
   "id": "b586179c-86b8-47b0-a9a4-e270da15bf3c",
   "metadata": {},
   "outputs": [
    {
     "name": "stdout",
     "output_type": "stream",
     "text": [
      "Greatest Decrease in Profits: Sep-2013 ($-2196167)\n"
     ]
    }
   ],
   "source": [
    "# Print greatest decreased profits\n",
    "\n",
    "print(\"Greatest Decrease in Profits: \" +df['Date'][df['Change'] == df['Change'].min()].iloc[0]+ \" ($\"+str(int(df['Change'].min()))+\")\")"
   ]
  },
  {
   "cell_type": "code",
   "execution_count": 38,
   "id": "a64e18b4-81e3-42f5-8473-24e48d264fac",
   "metadata": {},
   "outputs": [
    {
     "name": "stdout",
     "output_type": "stream",
     "text": [
      "\n",
      "Financial Analysis\n",
      "____________________\n",
      "\n",
      "Total Months: 86\n",
      "Total: $38382578\n",
      "Average Change: $-2315.12\n",
      "Greatest Increase in Profits: Feb-2012 ($1926159)\n",
      "Greatest Decrease in Profits: Sep-2013 ($-2196167)\n",
      "\n",
      "\n",
      "Jamel Harvey FINALLY Completed His Homework!!\n",
      "______________________________________________\n"
     ]
    }
   ],
   "source": [
    "# Complete analysis of sales report summarized\n",
    "\n",
    "print()\n",
    "print(\"Financial Analysis\")\n",
    "print(\"____________________\")\n",
    "print()\n",
    "print (\"Total Months:\" ,df['Date'].nunique())\n",
    "print(\"Total: $\"+str(df['Profit/Losses'].sum()))\n",
    "print(\"Average Change: $\"+str(round(df['Change'].mean(),2)))\n",
    "print(\"Greatest Increase in Profits: \" +df['Date'][df['Change'] == df['Change'].max()].iloc[0]+ \" ($\"+str(int(df['Change'].max()))+\")\")\n",
    "print(\"Greatest Decrease in Profits: \" +df['Date'][df['Change'] == df['Change'].min()].iloc[0]+ \" ($\"+str(int(df['Change'].min()))+\")\")\n",
    "print()\n",
    "print()\n",
    "print(\"Jamel Harvey FINALLY Completed His Homework!!\")\n",
    "print(\"______________________________________________\")"
   ]
  },
  {
   "cell_type": "code",
   "execution_count": null,
   "id": "27d8641c-8b45-41cb-9385-ea953b155e7b",
   "metadata": {},
   "outputs": [],
   "source": []
  }
 ],
 "metadata": {
  "kernelspec": {
   "display_name": "Python 3",
   "language": "python",
   "name": "python3"
  },
  "language_info": {
   "codemirror_mode": {
    "name": "ipython",
    "version": 3
   },
   "file_extension": ".py",
   "mimetype": "text/x-python",
   "name": "python",
   "nbconvert_exporter": "python",
   "pygments_lexer": "ipython3",
   "version": "3.7.10"
  }
 },
 "nbformat": 4,
 "nbformat_minor": 5
}
